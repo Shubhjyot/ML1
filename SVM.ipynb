{
 "cells": [
  {
   "cell_type": "code",
   "execution_count": 37,
   "metadata": {},
   "outputs": [],
   "source": [
    "import pandas as pd\n",
    "import numpy as np\n",
    "import matplotlib.pyplot as plt\n",
    "import seaborn as sns\n",
    "from sklearn.datasets import load_iris\n",
    "from sklearn.metrics import accuracy_score,roc_auc_score,confusion_matrix"
   ]
  },
  {
   "cell_type": "code",
   "execution_count": 38,
   "metadata": {},
   "outputs": [],
   "source": [
    "from sklearn import svm\n",
    "from sklearn.model_selection import train_test_split, cross_val_score\n",
    "from sklearn.svm import LinearSVC"
   ]
  },
  {
   "cell_type": "code",
   "execution_count": 39,
   "metadata": {},
   "outputs": [],
   "source": [
    "data=load_iris()\n",
    "X=data.data\n",
    "y=data.target"
   ]
  },
  {
   "cell_type": "code",
   "execution_count": 40,
   "metadata": {},
   "outputs": [],
   "source": [
    "X_train,X_test,y_train,y_test=train_test_split(X,y,test_size=0.2,random_state=42)"
   ]
  },
  {
   "cell_type": "code",
   "execution_count": 41,
   "metadata": {},
   "outputs": [],
   "source": [
    "lsvc=LinearSVC(verbose=0)"
   ]
  },
  {
   "cell_type": "code",
   "execution_count": 42,
   "metadata": {},
   "outputs": [
    {
     "name": "stdout",
     "output_type": "stream",
     "text": [
      "ACCURACY 1.0\n"
     ]
    },
    {
     "name": "stderr",
     "output_type": "stream",
     "text": [
      "/Library/Frameworks/Python.framework/Versions/3.12/lib/python3.12/site-packages/sklearn/svm/_classes.py:31: FutureWarning: The default value of `dual` will change from `True` to `'auto'` in 1.5. Set the value of `dual` explicitly to suppress the warning.\n",
      "  warnings.warn(\n",
      "/Library/Frameworks/Python.framework/Versions/3.12/lib/python3.12/site-packages/sklearn/svm/_base.py:1237: ConvergenceWarning: Liblinear failed to converge, increase the number of iterations.\n",
      "  warnings.warn(\n"
     ]
    }
   ],
   "source": [
    "lsvc.fit(X_train,y_train)\n",
    "y_pred=lsvc.predict(X_test)\n",
    "print(\"ACCURACY\",accuracy_score(y_pred,y_test))"
   ]
  },
  {
   "cell_type": "code",
   "execution_count": 43,
   "metadata": {},
   "outputs": [],
   "source": [
    "def eval_on_data(model=None):\n",
    "    predictions=model.predict(X_test)\n",
    "    correct_classifications=0\n",
    "    for i in range(len(y_test)):\n",
    "        if predictions[i]==y_test[i]:\n",
    "            correct_classifications+=1\n",
    "        accuracy=100*correct_classifications/len(y_test)\n",
    "    return accuracy"
   ]
  },
  {
   "cell_type": "code",
   "execution_count": 44,
   "metadata": {},
   "outputs": [
    {
     "name": "stdout",
     "output_type": "stream",
     "text": [
      "100.0% Accuracy obatined by kernal linear\n",
      "100.0% Accuracy obatined by kernal poly\n",
      "100.0% Accuracy obatined by kernal rbf\n"
     ]
    }
   ],
   "source": [
    "kernels=['linear','poly','rbf']\n",
    "accuracies=[]\n",
    "for index, kernels in enumerate(kernels):\n",
    "    model=svm.SVC(kernel=kernels)\n",
    "    model.fit(X_train,y_train)\n",
    "    acc=eval_on_data(model)\n",
    "    accuracies.append(acc)\n",
    "    print(f'{acc}% Accuracy obatined by kernal {kernels}')"
   ]
  },
  {
   "cell_type": "code",
   "execution_count": 45,
   "metadata": {},
   "outputs": [
    {
     "name": "stdout",
     "output_type": "stream",
     "text": [
      "Best parameters (Linear SVM): {'C': 0.3593813663804626}\n",
      "Best parameters (Kernel SVM): {'C': 1291.5496650148827, 'gamma': 0.0001, 'kernel': 'rbf'}\n",
      "Accuracy (Linear SVM): 0.9736842105263158\n",
      "ROC AUC (Linear SVM): 0.9970520799213888\n",
      "Accuracy (Kernel SVM): 0.9736842105263158\n",
      "ROC AUC (Kernel SVM): 0.9967245332459875\n",
      "Confusion Matrix (Linear SVM):\n",
      " [[41  2]\n",
      " [ 1 70]]\n",
      "Confusion Matrix (Kernel SVM):\n",
      " [[41  2]\n",
      " [ 1 70]]\n"
     ]
    }
   ],
   "source": [
    "import numpy as np\n",
    "import matplotlib.pyplot as plt\n",
    "from sklearn.model_selection import train_test_split, GridSearchCV\n",
    "from sklearn.preprocessing import StandardScaler\n",
    "from sklearn.svm import SVC\n",
    "from sklearn.metrics import accuracy_score, roc_auc_score, roc_curve, confusion_matrix\n",
    "from sklearn.datasets import load_breast_cancer\n",
    "\n",
    "# Load dataset\n",
    "data = load_breast_cancer()\n",
    "X, y = data.data, data.target\n",
    "\n",
    "# Standardize the data\n",
    "scaler = StandardScaler()\n",
    "X_std = scaler.fit_transform(X)\n",
    "\n",
    "# Split dataset into training and test sets\n",
    "X_train, X_test, y_train, y_test = train_test_split(X_std, y, test_size=0.2, random_state=42)\n",
    "\n",
    "# Define the parameter grid for linear SVM\n",
    "param_grid_linear = {\n",
    "    'C': np.logspace(-4, 4, 10)\n",
    "}\n",
    "\n",
    "# Define the parameter grid for kernel SVM\n",
    "param_grid_kernel = {\n",
    "    'C': np.logspace(-4, 4, 10),\n",
    "    'gamma': np.logspace(-4, 4, 10),\n",
    "    'kernel': ['rbf','poly']\n",
    "}\n",
    "\n",
    "# Linear SVM\n",
    "linear_svm = SVC(kernel='linear', random_state=42)\n",
    "grid_search_linear = GridSearchCV(linear_svm, param_grid_linear, cv=5, scoring='accuracy', n_jobs=-1)\n",
    "grid_search_linear.fit(X_train, y_train)\n",
    "\n",
    "# Kernel SVM\n",
    "kernel_svm = SVC(random_state=42)\n",
    "grid_search_kernel = GridSearchCV(kernel_svm, param_grid_kernel, cv=5, scoring='accuracy', n_jobs=-1)\n",
    "grid_search_kernel.fit(X_train, y_train)\n",
    "\n",
    "# Print best parameters\n",
    "print(\"Best parameters (Linear SVM):\", grid_search_linear.best_params_)\n",
    "print(\"Best parameters (Kernel SVM):\", grid_search_kernel.best_params_)\n",
    "\n",
    "# Evaluate the Linear SVM model\n",
    "best_linear_svm = grid_search_linear.best_estimator_\n",
    "y_pred_linear = best_linear_svm.predict(X_test)\n",
    "print(\"Accuracy (Linear SVM):\", accuracy_score(y_test, y_pred_linear))\n",
    "print(\"ROC AUC (Linear SVM):\", roc_auc_score(y_test, best_linear_svm.decision_function(X_test)))\n",
    "\n",
    "# Evaluate the Kernel SVM model\n",
    "best_kernel_svm = grid_search_kernel.best_estimator_\n",
    "y_pred_kernel = best_kernel_svm.predict(X_test)\n",
    "print(\"Accuracy (Kernel SVM):\", accuracy_score(y_test, y_pred_kernel))\n",
    "print(\"ROC AUC (Kernel SVM):\", roc_auc_score(y_test, best_kernel_svm.decision_function(X_test)))\n",
    "\n",
    "# Confusion Matrices\n",
    "conf_matrix_linear = confusion_matrix(y_test, y_pred_linear)\n",
    "conf_matrix_kernel = confusion_matrix(y_test, y_pred_kernel)\n",
    "print(\"Confusion Matrix (Linear SVM):\\n\", conf_matrix_linear)\n",
    "print(\"Confusion Matrix (Kernel SVM):\\n\", conf_matrix_kernel)"
   ]
  },
  {
   "cell_type": "code",
   "execution_count": null,
   "metadata": {},
   "outputs": [],
   "source": [
    "# # Plot ROC Curve\n",
    "# fpr, tpr, _ = roc_curve(y_test, best_ada.predict_proba(X_test)[:, 1])\n",
    "# plt.figure()\n",
    "# plt.plot(fpr, tpr, color='blue', lw=2, label='AdaBoost (area = %0.2f)' % roc_auc_score(y_test, best_ada.predict_proba(X_test)[:, 1]))\n",
    "# plt.plot([0, 1], [0, 1], color='gray', lw=2, linestyle='--')\n",
    "# plt.xlim([0.0, 1.0])\n",
    "# plt.ylim([0.0, 1.05])\n",
    "# plt.xlabel('False Positive Rate')\n",
    "# plt.ylabel('True Positive Rate')\n",
    "# plt.title('Receiver Operating Characteristic (ROC) Curve')\n",
    "# plt.legend(loc=\"lower right\")\n",
    "# plt.show()"
   ]
  }
 ],
 "metadata": {
  "kernelspec": {
   "display_name": "Python 3",
   "language": "python",
   "name": "python3"
  },
  "language_info": {
   "codemirror_mode": {
    "name": "ipython",
    "version": 3
   },
   "file_extension": ".py",
   "mimetype": "text/x-python",
   "name": "python",
   "nbconvert_exporter": "python",
   "pygments_lexer": "ipython3",
   "version": "3.12.0"
  }
 },
 "nbformat": 4,
 "nbformat_minor": 2
}
